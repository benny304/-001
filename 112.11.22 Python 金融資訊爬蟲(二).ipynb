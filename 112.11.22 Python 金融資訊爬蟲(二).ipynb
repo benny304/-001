#載入套件（一定要執行的套件）
import bs4
from bs4 import BeautifulSoup
from urllib.request import urlopen
import requests
import random
!pip install fake_useragent
from fake_useragent import UserAgent
import re
import datetime
from datetime import datetime
import numpy as np
import pandas as pd
import time
import matplotlib.pyplot as plt
import pandas_datareader as pdr
import yfinance as yf  #Yahoo API
